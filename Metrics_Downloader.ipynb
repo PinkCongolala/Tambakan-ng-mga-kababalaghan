{
  "cells": [
    {
      "cell_type": "markdown",
      "metadata": {
        "id": "view-in-github",
        "colab_type": "text"
      },
      "source": [
        "<a href=\"https://colab.research.google.com/github/TagalamasNgOppai/Tambakan-ng-mga-kababalaghan/blob/main/Metrics_Downloader.ipynb\" target=\"_parent\"><img src=\"https://colab.research.google.com/assets/colab-badge.svg\" alt=\"Open In Colab\"/></a>"
      ]
    },
    {
      "cell_type": "markdown",
      "metadata": {
        "id": "EiwJD082TEFf"
      },
      "source": [
        "Working Code for Auto Metrics Extraction"
      ]
    },
    {
      "cell_type": "code",
      "execution_count": null,
      "metadata": {
        "colab": {
          "base_uri": "https://localhost:8080/",
          "height": 659
        },
        "id": "w4rOEp0-SkGU",
        "outputId": "da846253-9764-40c5-9617-8907f23bc1ed"
      },
      "outputs": [
        {
          "name": "stdout",
          "output_type": "stream",
          "text": [
            "🔍 Processing Apex - Apex 2025 Sep CIS ...\n",
            "✅ Exported CIS Apex 2025 Sep\n",
            "🔍 Processing Champions - Champions 2025 Sep CIS ...\n",
            "✅ Exported CIS Champions 2025 Sep\n",
            "🔍 Processing Dominators - Dominators 2025 Sep CIS ...\n",
            "✅ Exported CIS Dominators 2025 Sep\n",
            "🔍 Processing Stratos - Stratos 2025 Sep CIS ...\n",
            "✅ Exported CIS Stratos 2025 Sep\n",
            "🔍 Processing Kingsmen - Kingsmen 2025 Sep CIS ...\n",
            "✅ Exported CIS Kingsmen 2025 Sep\n",
            "🔍 Processing The Luminaries - The Luminaries 2025 Sep CIS ...\n",
            "✅ Exported CIS The Luminaries 2025 Sep\n",
            "🔍 Processing The Royals - The Royals 2025 Sep CIS ...\n",
            "✅ Exported CIS The Royals 2025 Sep\n",
            "🔍 Processing The Elite - The Elite 2025 Sep CIS ...\n",
            "✅ Exported CIS The Elite 2025 Sep\n",
            "🔍 Processing Titans - Titans 2025 Sep CIS ...\n",
            "✅ Exported CIS Titans 2025 Sep\n",
            "🔍 Processing Apex - CMF Apex 2025 Sep ...\n",
            "✅ Exported CMF Apex 2025 Sep\n",
            "🔍 Processing Champions - CMF Champions 2025 Sep ...\n",
            "✅ Exported CMF Champions 2025 Sep\n",
            "🔍 Processing Dominators - CMF Dominators 2025 Sep ...\n",
            "✅ Exported CMF Dominators 2025 Sep\n",
            "🔍 Processing Stratos - CMF Stratos 2025 Sep ...\n",
            "✅ Exported CMF Stratos 2025 Sep\n",
            "🔍 Processing Kingsmen - CMF Kingsmen 2025 Sep ...\n",
            "✅ Exported CMF Kingsmen 2025 Sep\n",
            "🔍 Processing The Luminaries - CMF The Luminaries 2025 Sep ...\n",
            "✅ Exported CMF The Luminaries 2025 Sep\n",
            "🔍 Processing The Royals - CMF The Royals 2025 Sep ...\n",
            "✅ Exported CMF The Royals 2025 Sep\n",
            "🔍 Processing The Elite - CMF The Elite 2025 Sep ...\n",
            "✅ Exported CMF The Elite 2025 Sep\n",
            "🔍 Processing Titans - CMF Titans 2025 Sep ...\n",
            "✅ Exported CMF Titans 2025 Sep\n",
            "🎉 All done! Files zipped into CIS_and_CMF_2025_Sep_Sheets.zip\n"
          ]
        },
        {
          "data": {
            "application/javascript": [
              "\n",
              "    async function download(id, filename, size) {\n",
              "      if (!google.colab.kernel.accessAllowed) {\n",
              "        return;\n",
              "      }\n",
              "      const div = document.createElement('div');\n",
              "      const label = document.createElement('label');\n",
              "      label.textContent = `Downloading \"${filename}\": `;\n",
              "      div.appendChild(label);\n",
              "      const progress = document.createElement('progress');\n",
              "      progress.max = size;\n",
              "      div.appendChild(progress);\n",
              "      document.body.appendChild(div);\n",
              "\n",
              "      const buffers = [];\n",
              "      let downloaded = 0;\n",
              "\n",
              "      const channel = await google.colab.kernel.comms.open(id);\n",
              "      // Send a message to notify the kernel that we're ready.\n",
              "      channel.send({})\n",
              "\n",
              "      for await (const message of channel.messages) {\n",
              "        // Send a message to notify the kernel that we're ready.\n",
              "        channel.send({})\n",
              "        if (message.buffers) {\n",
              "          for (const buffer of message.buffers) {\n",
              "            buffers.push(buffer);\n",
              "            downloaded += buffer.byteLength;\n",
              "            progress.value = downloaded;\n",
              "          }\n",
              "        }\n",
              "      }\n",
              "      const blob = new Blob(buffers, {type: 'application/binary'});\n",
              "      const a = document.createElement('a');\n",
              "      a.href = window.URL.createObjectURL(blob);\n",
              "      a.download = filename;\n",
              "      div.appendChild(a);\n",
              "      a.click();\n",
              "      div.remove();\n",
              "    }\n",
              "  "
            ],
            "text/plain": [
              "<IPython.core.display.Javascript object>"
            ]
          },
          "metadata": {},
          "output_type": "display_data"
        },
        {
          "data": {
            "application/javascript": [
              "download(\"download_7ca2ebbf-4ddd-4f7f-a179-a8be833d4f66\", \"CIS_and_CMF_2025_Sep_Sheets.zip\", 4646125)"
            ],
            "text/plain": [
              "<IPython.core.display.Javascript object>"
            ]
          },
          "metadata": {},
          "output_type": "display_data"
        }
      ],
      "source": [
        "import os\n",
        "import shutil\n",
        "import zipfile\n",
        "import smartsheet\n",
        "from google.colab import files\n",
        "import warnings\n",
        "\n",
        "warnings.filterwarnings(\"ignore\", category=DeprecationWarning)\n",
        "\n",
        "ACCESS_TOKEN = \"mHm7ovoYkHeuLmYanZPtfqbEBfpHVYMogp4A7\"\n",
        "client = smartsheet.Smartsheet(ACCESS_TOKEN)\n",
        "client.errors_as_exceptions(True)\n",
        "\n",
        "# --- CIS sheet mapping (Dominators included) ---\n",
        "cis_sheets = {\n",
        "    \"Apex\": \"Apex 2025 Sep\",\n",
        "    \"Champions\": \"Champions 2025 Sep\",\n",
        "    \"Dominators\": \"Dominators 2025 Sep\",\n",
        "    \"Stratos\": \"Stratos 2025 Sep\",\n",
        "    \"Kingsmen\": \"Kingsmen 2025 Sep\",\n",
        "    \"The Luminaries\": \"The Luminaries 2025 Sep\",\n",
        "    \"The Royals\": \"The Royals 2025 Sep\",\n",
        "    \"The Elite\": \"The Elite 2025 Sep\",\n",
        "    \"Titans\": \"Titans 2025 Sep\"\n",
        "}\n",
        "\n",
        "# --- CMF sheet mapping ---\n",
        "cmf_sheets = {\n",
        "    \"Apex\": \"CMF Apex 2025 Sep\",\n",
        "    \"Champions\": \"CMF Champions 2025 Sep\",\n",
        "    \"Dominators\": \"CMF Dominators 2025 Sep\",\n",
        "    \"Stratos\": \"CMF Stratos 2025 Sep\",\n",
        "    \"Kingsmen\": \"CMF Kingsmen 2025 Sep\",\n",
        "    \"The Luminaries\": \"CMF The Luminaries 2025 Sep\",\n",
        "    \"The Royals\": \"CMF The Royals 2025 Sep\",\n",
        "    \"The Elite\": \"CMF The Elite 2025 Sep\",\n",
        "    \"Titans\": \"CMF Titans 2025 Sep\"\n",
        "}\n",
        "\n",
        "# Temporary folder to store all sheets\n",
        "temp_dir = \"temp_exports\"\n",
        "if os.path.exists(temp_dir):\n",
        "    shutil.rmtree(temp_dir)\n",
        "os.makedirs(temp_dir, exist_ok=True)\n",
        "\n",
        "all_sheets = client.Sheets.list_sheets(include_all=True).data\n",
        "\n",
        "# --- Function to export sheets into a specific subfolder ---\n",
        "def export_sheets(sheet_mapping, subfolder, prefix=\"\"):\n",
        "    folder_path = os.path.join(temp_dir, subfolder)\n",
        "    os.makedirs(folder_path, exist_ok=True)\n",
        "\n",
        "    for div, sheet_names in sheet_mapping.items():\n",
        "        # Ensure it's a list to support multiple sheets\n",
        "        if not isinstance(sheet_names, list):\n",
        "            sheet_names = [sheet_names]\n",
        "\n",
        "        for sheet_name in sheet_names:\n",
        "            print(f\"🔍 Processing {div} - {sheet_name} {prefix}...\")\n",
        "\n",
        "            # Exact-match lookup\n",
        "            target = next(\n",
        "                (s for s in all_sheets if sheet_name.lower().strip() == s.name.lower().strip()),\n",
        "                None\n",
        "            )\n",
        "\n",
        "            if not target:\n",
        "                print(f\"⚠️ Sheet not found: {sheet_name}\")\n",
        "                continue\n",
        "\n",
        "            client.Sheets.get_sheet_as_excel(\n",
        "                target.id,\n",
        "                folder_path,\n",
        "                alternate_file_name=f\"{prefix}{sheet_name}.xlsx\"\n",
        "            )\n",
        "            print(f\"✅ Exported {prefix}{sheet_name}\")\n",
        "\n",
        "# --- Export CIS sheets with prefix ---\n",
        "export_sheets(cis_sheets, subfolder=\"CIS\", prefix=\"CIS \")\n",
        "\n",
        "# --- Export CMF sheets without prefix ---\n",
        "export_sheets(cmf_sheets, subfolder=\"CMF\", prefix=\"\")\n",
        "\n",
        "# --- Create final zip with subfolders ---\n",
        "final_zip = \"CIS_and_CMF_2025_Sep_Sheets.zip\"\n",
        "with zipfile.ZipFile(final_zip, \"w\") as zipf:\n",
        "    for root, _, files_list in os.walk(temp_dir):\n",
        "        for file in files_list:\n",
        "            full_path = os.path.join(root, file)\n",
        "            # Preserve subfolder structure\n",
        "            arcname = os.path.relpath(full_path, temp_dir)\n",
        "            zipf.write(full_path, arcname)\n",
        "\n",
        "# --- Cleanup temp folder ---\n",
        "shutil.rmtree(temp_dir)\n",
        "\n",
        "print(f\"🎉 All done! Files zipped into {final_zip}\")\n",
        "files.download(final_zip)\n"
      ]
    }
  ],
  "metadata": {
    "colab": {
      "provenance": [],
      "authorship_tag": "ABX9TyOcZ/CQfnGwS81bhE9CcLTK",
      "include_colab_link": true
    },
    "kernelspec": {
      "display_name": "Python 3",
      "name": "python3"
    },
    "language_info": {
      "name": "python"
    }
  },
  "nbformat": 4,
  "nbformat_minor": 0
}